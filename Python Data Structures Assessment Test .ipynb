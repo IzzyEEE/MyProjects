{
 "cells": [
  {
   "cell_type": "markdown",
   "metadata": {
    "id": "iO0aiptlybJM"
   },
   "source": [
    "# Objects and Data Structures Assessment Test"
   ]
  },
  {
   "cell_type": "markdown",
   "metadata": {
    "collapsed": true,
    "id": "sPl2J_FNybJh"
   },
   "source": [
    "## Test your knowledge. \n",
    "\n",
    "** Answer the following questions **"
   ]
  },
  {
   "cell_type": "markdown",
   "metadata": {
    "collapsed": true,
    "id": "CmnB9mK5ybJj"
   },
   "source": [
    "Write a brief description of all the following Object Types and Data Structures we've learned about: "
   ]
  },
  {
   "cell_type": "markdown",
   "metadata": {
    "id": "RLqEftW_ybJl"
   },
   "source": [
    "Numbers: This comprises of two types, either integers or floats. Integers are whole numbers which could be negative or positive without decimal points.\n",
    "Floats are numbers with decimal points.\n",
    "\n",
    "Strings: These are text characters\n",
    "\n",
    "Lists: This is an ordered sequence of items and contains different data types. It is always enclosed in square brackets and separated by commas.\n",
    "\n",
    "Tuples: Tuples are similar to lists as its also an ordered sequence of items. However once created, the elements/items can't be altered. Tuples are defined using parenthesis ().\n",
    "\n",
    "Dictionaries: These allow you store and retrieve data in a flexible manner and can be unordered. The values are also in pairs called key-value pairs.\n"
   ]
  },
  {
   "cell_type": "markdown",
   "metadata": {
    "id": "y-DGXbnaybJs"
   },
   "source": [
    "Answer these 3 questions without typing code. Then type code to check your answer.\n",
    "\n",
    "    What is the value of the expression 10 * (66 - 32)= 340\n",
    "    \n",
    "    What is the value of the expression 4 * 66 - 32 = 232\n",
    "    \n",
    "    What is the value of the expression 4 + 66 * 5 = 334"
   ]
  },
  {
   "cell_type": "code",
   "execution_count": 15,
   "metadata": {
    "id": "9nqUxwAr0BOm"
   },
   "outputs": [
    {
     "data": {
      "text/plain": [
       "340"
      ]
     },
     "execution_count": 15,
     "metadata": {},
     "output_type": "execute_result"
    }
   ],
   "source": [
    "#type code here\n",
    "value1 = 10 * (66 - 32)\n",
    "value1"
   ]
  },
  {
   "cell_type": "code",
   "execution_count": 16,
   "metadata": {},
   "outputs": [
    {
     "data": {
      "text/plain": [
       "232"
      ]
     },
     "execution_count": 16,
     "metadata": {},
     "output_type": "execute_result"
    }
   ],
   "source": [
    "value2 = 4 * 66 - 32\n",
    "\n",
    "value2"
   ]
  },
  {
   "cell_type": "code",
   "execution_count": 17,
   "metadata": {},
   "outputs": [
    {
     "data": {
      "text/plain": [
       "334"
      ]
     },
     "execution_count": 17,
     "metadata": {},
     "output_type": "execute_result"
    }
   ],
   "source": [
    "value3 = 4 +66 * 5\n",
    "value3"
   ]
  },
  {
   "cell_type": "markdown",
   "metadata": {
    "id": "cs2BDhyMybJ3"
   },
   "source": [
    "What is the *type* of the result of the expression 3 + 1.5 + 4?<br><br>"
   ]
  },
  {
   "cell_type": "code",
   "execution_count": 18,
   "metadata": {
    "id": "tYGlD3JN0MCi"
   },
   "outputs": [
    {
     "data": {
      "text/plain": [
       "float"
      ]
     },
     "execution_count": 18,
     "metadata": {},
     "output_type": "execute_result"
    }
   ],
   "source": [
    "a = 3+1.5+4\n",
    "type(a)"
   ]
  },
  {
   "cell_type": "markdown",
   "metadata": {
    "id": "a1T4o9jsybJ7"
   },
   "source": [
    "What would you use to find a number’s square root, as well as its square? "
   ]
  },
  {
   "cell_type": "code",
   "execution_count": 21,
   "metadata": {
    "id": "2CApeau4z8IJ"
   },
   "outputs": [
    {
     "data": {
      "text/plain": [
       "4489"
      ]
     },
     "execution_count": 21,
     "metadata": {},
     "output_type": "execute_result"
    }
   ],
   "source": [
    "#find the square of 67\n",
    "67 ** 2"
   ]
  },
  {
   "cell_type": "code",
   "execution_count": 20,
   "metadata": {
    "id": "w_uyjJDLNDPS"
   },
   "outputs": [
    {
     "data": {
      "text/plain": [
       "82.44998483929515"
      ]
     },
     "execution_count": 20,
     "metadata": {},
     "output_type": "execute_result"
    }
   ],
   "source": [
    "#find the square root of 6798\n",
    "6798 ** 0.5"
   ]
  },
  {
   "cell_type": "code",
   "execution_count": 24,
   "metadata": {
    "id": "Lxr0fSOaNIE7"
   },
   "outputs": [
    {
     "data": {
      "text/plain": [
       "314432"
      ]
     },
     "execution_count": 24,
     "metadata": {},
     "output_type": "execute_result"
    }
   ],
   "source": [
    "#find the value of 68 exponent(raise to the power) by 3, and store it in a varibale called 'a'\n",
    "a = 68 ** 3\n",
    "a"
   ]
  },
  {
   "cell_type": "code",
   "execution_count": 25,
   "metadata": {
    "id": "HJ8mB70ONVfb"
   },
   "outputs": [
    {
     "data": {
      "text/plain": [
       "560.7423650840018"
      ]
     },
     "execution_count": 25,
     "metadata": {},
     "output_type": "execute_result"
    }
   ],
   "source": [
    "#find the square root of 'a'\n",
    "\n",
    "a ** 0.5"
   ]
  },
  {
   "cell_type": "markdown",
   "metadata": {
    "id": "nCZng1oYybKB"
   },
   "source": [
    "## Strings"
   ]
  },
  {
   "cell_type": "markdown",
   "metadata": {
    "id": "xWRtkL57ybKC"
   },
   "source": [
    "Given the string 'hello' give an index command that returns 'e'. Enter your code in the cell below:"
   ]
  },
  {
   "cell_type": "code",
   "execution_count": 107,
   "metadata": {
    "id": "ptU8JcsMybKD",
    "outputId": "6b4f3d03-37f5-4f19-b26b-4124821e1111"
   },
   "outputs": [
    {
     "data": {
      "text/plain": [
       "'e'"
      ]
     },
     "execution_count": 107,
     "metadata": {},
     "output_type": "execute_result"
    }
   ],
   "source": [
    "s = 'hello'\n",
    "# Print out 'e' using indexing\n",
    "(s[1])\n",
    "\n"
   ]
  },
  {
   "cell_type": "markdown",
   "metadata": {
    "id": "v9SP7L5CybKF"
   },
   "source": [
    "Reverse the string 'hello' using slicing:"
   ]
  },
  {
   "cell_type": "code",
   "execution_count": 106,
   "metadata": {
    "colab": {
     "base_uri": "https://localhost:8080/",
     "height": 35
    },
    "executionInfo": {
     "elapsed": 9,
     "status": "ok",
     "timestamp": 1681206227185,
     "user": {
      "displayName": "Bot Mandieng",
      "userId": "08526973716046005463"
     },
     "user_tz": -60
    },
    "id": "vvtqx-2rybKG",
    "outputId": "c4eab183-0a9c-45ac-8bb0-fa7e18fa8b12"
   },
   "outputs": [
    {
     "data": {
      "text/plain": [
       "'olleh'"
      ]
     },
     "execution_count": 106,
     "metadata": {},
     "output_type": "execute_result"
    }
   ],
   "source": [
    "s ='hello'\n",
    "# Reverse the string using slicing\n",
    "(s[::-1])\n"
   ]
  },
  {
   "cell_type": "markdown",
   "metadata": {
    "id": "CLZTXpYIybKI"
   },
   "source": [
    "Given the string hello, give two methods of producing the letter 'o' using indexing."
   ]
  },
  {
   "cell_type": "code",
   "execution_count": 104,
   "metadata": {
    "id": "F4lKCRtHybKJ",
    "outputId": "436e241b-f980-4f5e-a655-3c6ab9463c91"
   },
   "outputs": [
    {
     "data": {
      "text/plain": [
       "'o'"
      ]
     },
     "execution_count": 104,
     "metadata": {},
     "output_type": "execute_result"
    }
   ],
   "source": [
    "s ='hello'\n",
    "# Print out the 'o'\n",
    "\n",
    "# Method 1:\n",
    "\n",
    "(s[4])"
   ]
  },
  {
   "cell_type": "code",
   "execution_count": 105,
   "metadata": {
    "id": "wpHzaObWybKL",
    "outputId": "09f572db-b1d1-4b16-9462-090365517ce2"
   },
   "outputs": [
    {
     "data": {
      "text/plain": [
       "'o'"
      ]
     },
     "execution_count": 105,
     "metadata": {},
     "output_type": "execute_result"
    }
   ],
   "source": [
    "# Method 2:\n",
    "(s[-1])"
   ]
  },
  {
   "cell_type": "code",
   "execution_count": null,
   "metadata": {
    "id": "f63il5vpybKM"
   },
   "outputs": [],
   "source": []
  },
  {
   "cell_type": "markdown",
   "metadata": {
    "id": "l43oeCRlybKN"
   },
   "source": [
    "## Lists"
   ]
  },
  {
   "cell_type": "markdown",
   "metadata": {
    "id": "U4JlugAqybKO"
   },
   "source": [
    "Build this list [0,0,0] two separate ways."
   ]
  },
  {
   "cell_type": "code",
   "execution_count": 73,
   "metadata": {
    "id": "2rw1qnq2ybKP",
    "outputId": "fef990d2-7237-46a0-9537-b2c84dc7b6b5"
   },
   "outputs": [
    {
     "data": {
      "text/plain": [
       "[0, 0, 0]"
      ]
     },
     "execution_count": 73,
     "metadata": {},
     "output_type": "execute_result"
    }
   ],
   "source": [
    "# Method 1:\n",
    "list1 = [0, 0, 0]\n",
    "list1"
   ]
  },
  {
   "cell_type": "code",
   "execution_count": 84,
   "metadata": {
    "id": "N4RTRT2pybKQ",
    "outputId": "255f3d38-cabf-4102-c4d7-812a85c288bb"
   },
   "outputs": [
    {
     "data": {
      "text/plain": [
       "[0, 0, 0]"
      ]
     },
     "execution_count": 84,
     "metadata": {},
     "output_type": "execute_result"
    }
   ],
   "source": [
    "# Method 2:\n",
    "\n",
    "my_list = []\n",
    "for _ in range(3):\n",
    "    my_list.append(0)\n",
    "\n",
    "my_list\n",
    "\n"
   ]
  },
  {
   "cell_type": "code",
   "execution_count": 86,
   "metadata": {
    "colab": {
     "base_uri": "https://localhost:8080/"
    },
    "executionInfo": {
     "elapsed": 568,
     "status": "ok",
     "timestamp": 1685258488902,
     "user": {
      "displayName": "Bot Mandieng",
      "userId": "08526973716046005463"
     },
     "user_tz": -60
    },
    "id": "sgUqm6oaOv_x",
    "outputId": "8cb879af-32ae-44bc-85fb-92dae818cb19"
   },
   "outputs": [],
   "source": [
    "#method 3:\n"
   ]
  },
  {
   "cell_type": "markdown",
   "metadata": {
    "id": "W6BbZaOqybKS"
   },
   "source": [
    "Reassign 'hello' in this nested list below to say 'goodbye' instead:"
   ]
  },
  {
   "cell_type": "code",
   "execution_count": 87,
   "metadata": {
    "colab": {
     "base_uri": "https://localhost:8080/",
     "height": 35
    },
    "executionInfo": {
     "elapsed": 547,
     "status": "ok",
     "timestamp": 1685258207523,
     "user": {
      "displayName": "Bot Mandieng",
      "userId": "08526973716046005463"
     },
     "user_tz": -60
    },
    "id": "LYT8sb9TybKU",
    "outputId": "c05c7277-5236-4747-f33d-a4b747961738"
   },
   "outputs": [
    {
     "data": {
      "text/plain": [
       "[1, 2, [3, 4, 'goodbye']]"
      ]
     },
     "execution_count": 87,
     "metadata": {},
     "output_type": "execute_result"
    }
   ],
   "source": [
    "list3 = [1,2,[3,4,'hello']]\n",
    "\n",
    "#write code below\n",
    "list3[2][2] = 'goodbye'\n",
    "list3\n"
   ]
  },
  {
   "cell_type": "code",
   "execution_count": 93,
   "metadata": {},
   "outputs": [
    {
     "data": {
      "text/plain": [
       "'goodbye'"
      ]
     },
     "execution_count": 93,
     "metadata": {},
     "output_type": "execute_result"
    }
   ],
   "source": [
    "# method 2 for printing goodbye\n",
    "\n",
    "list3 = [1,2,[3,4,'hello']]\n",
    "\n",
    "#write code below\n",
    "list3[2][2] = 'goodbye'\n",
    "list3[2][2]"
   ]
  },
  {
   "cell_type": "markdown",
   "metadata": {
    "id": "Vru6OJpjybKX"
   },
   "source": [
    "Sort the list below:"
   ]
  },
  {
   "cell_type": "code",
   "execution_count": 94,
   "metadata": {
    "colab": {
     "base_uri": "https://localhost:8080/"
    },
    "executionInfo": {
     "elapsed": 456,
     "status": "ok",
     "timestamp": 1685258349139,
     "user": {
      "displayName": "Bot Mandieng",
      "userId": "08526973716046005463"
     },
     "user_tz": -60
    },
    "id": "vdPznQoAybKY",
    "outputId": "ffcef27a-cea7-48f4-e65f-c4a5c9e8b81f"
   },
   "outputs": [
    {
     "data": {
      "text/plain": [
       "[1, 2, 3, 4, 5, 6, 7, 8, 9, 10, 11, 12, 13, 14, 15]"
      ]
     },
     "execution_count": 94,
     "metadata": {},
     "output_type": "execute_result"
    }
   ],
   "source": [
    "list4 = [5,12,3,4,6,1,8,11,2,15,10,7,13,9,14]\n",
    "\n",
    "#write code below\n",
    "list4.sort()\n",
    "list4"
   ]
  },
  {
   "cell_type": "markdown",
   "metadata": {
    "id": "y7ilCmkoybKZ"
   },
   "source": [
    "## Dictionaries"
   ]
  },
  {
   "cell_type": "markdown",
   "metadata": {
    "id": "S2b_A0-EybKa"
   },
   "source": [
    "Using keys and indexing, grab the 'hello' from the following dictionaries:"
   ]
  },
  {
   "cell_type": "code",
   "execution_count": 95,
   "metadata": {
    "colab": {
     "base_uri": "https://localhost:8080/",
     "height": 35
    },
    "executionInfo": {
     "elapsed": 8,
     "status": "ok",
     "timestamp": 1681206476384,
     "user": {
      "displayName": "Bot Mandieng",
      "userId": "08526973716046005463"
     },
     "user_tz": -60
    },
    "id": "I-dtFU3SybKb",
    "outputId": "712a6f81-228d-44b5-83e5-e45ca2df8d72"
   },
   "outputs": [
    {
     "data": {
      "text/plain": [
       "'hello'"
      ]
     },
     "execution_count": 95,
     "metadata": {},
     "output_type": "execute_result"
    }
   ],
   "source": [
    "d = {'simple_key':'hello'}\n",
    "# Grab 'hello'\n",
    "d[\"simple_key\"]"
   ]
  },
  {
   "cell_type": "code",
   "execution_count": 96,
   "metadata": {
    "colab": {
     "base_uri": "https://localhost:8080/",
     "height": 35
    },
    "executionInfo": {
     "elapsed": 1468,
     "status": "ok",
     "timestamp": 1681206712620,
     "user": {
      "displayName": "Bot Mandieng",
      "userId": "08526973716046005463"
     },
     "user_tz": -60
    },
    "id": "51ionkQCybKc",
    "outputId": "83ca5411-15b4-4451-dbc8-69a35e9ba9a3"
   },
   "outputs": [
    {
     "data": {
      "text/plain": [
       "'hello'"
      ]
     },
     "execution_count": 96,
     "metadata": {},
     "output_type": "execute_result"
    }
   ],
   "source": [
    "d = {'k1':{'k2':'hello'}}\n",
    "# Grab 'hello'\n",
    "d['k1']['k2']"
   ]
  },
  {
   "cell_type": "code",
   "execution_count": 97,
   "metadata": {
    "colab": {
     "base_uri": "https://localhost:8080/",
     "height": 35
    },
    "executionInfo": {
     "elapsed": 8,
     "status": "ok",
     "timestamp": 1681207843229,
     "user": {
      "displayName": "Bot Mandieng",
      "userId": "08526973716046005463"
     },
     "user_tz": -60
    },
    "id": "DVWsvBQSybKe",
    "outputId": "0f33516e-9559-4e0d-ca7d-bfd85bc2ce40"
   },
   "outputs": [
    {
     "data": {
      "text/plain": [
       "'hello'"
      ]
     },
     "execution_count": 97,
     "metadata": {},
     "output_type": "execute_result"
    }
   ],
   "source": [
    "# Getting a little tricker\n",
    "d = {'k1':[{'nest_key':['this is deep',['hello']]}]}\n",
    "\n",
    "#Grab hello\n",
    "d['k1'][0]['nest_key'][1][0]"
   ]
  },
  {
   "cell_type": "code",
   "execution_count": 98,
   "metadata": {
    "id": "eMmn3IwnybKf",
    "outputId": "cf0860a1-a0eb-41cc-ce46-4449c52e1211"
   },
   "outputs": [
    {
     "data": {
      "text/plain": [
       "'hello'"
      ]
     },
     "execution_count": 98,
     "metadata": {},
     "output_type": "execute_result"
    }
   ],
   "source": [
    "# This will be alittle bit hard!\n",
    "d = {'k1':[1,2,{'k2':['this is tricky',\n",
    "               {'tough':[1,2,['hello']]}]}]\n",
    "    }\n",
    "\n",
    "#Grab hello\n",
    "d['k1'][2]['k2'][1]['tough'][2][0]"
   ]
  },
  {
   "cell_type": "markdown",
   "metadata": {
    "id": "CsoGj4PkybKh"
   },
   "source": [
    "Can you sort a dictionary? Why or why not?<br><br>\n",
    "\n",
    "Items in a dictionary can be retrieved in a specific order and this is done by sorting the keys"
   ]
  },
  {
   "cell_type": "markdown",
   "metadata": {
    "id": "W86HUWHxybKi"
   },
   "source": [
    "## Tuples"
   ]
  },
  {
   "cell_type": "markdown",
   "metadata": {
    "id": "HuTgR7tbybKj"
   },
   "source": [
    "What is the major difference between tuples and lists?<br><br>\n",
    "\n",
    "Tuples are similar to lists as its also an ordered sequence of items. However once created, the elements/items in tuple can't be altered."
   ]
  },
  {
   "cell_type": "markdown",
   "metadata": {
    "id": "-Wa_IrxsybKk"
   },
   "source": []
  },
  {
   "cell_type": "markdown",
   "metadata": {
    "id": "ah09VsqnybKk"
   },
   "source": [
    "How do you create a tuple?<br><br>\n",
    "Tuples are created using parenthesis/brackets '()'"
   ]
  },
  {
   "cell_type": "code",
   "execution_count": 102,
   "metadata": {
    "id": "IF7KoonWybKl"
   },
   "outputs": [
    {
     "data": {
      "text/plain": [
       "('Izi', 'Ehimen', 'Jacinta')"
      ]
     },
     "execution_count": 102,
     "metadata": {},
     "output_type": "execute_result"
    }
   ],
   "source": [
    "my_tuple = (\"Izi\", \"Ehimen\", \"Jacinta\")\n",
    "my_tuple"
   ]
  },
  {
   "cell_type": "markdown",
   "metadata": {
    "id": "a_botkJKybKm"
   },
   "source": [
    "## Sets "
   ]
  },
  {
   "cell_type": "markdown",
   "metadata": {
    "id": "LpzuwRG1ybKo"
   },
   "source": [
    "What is unique about a set?\n",
    "the items are unique"
   ]
  },
  {
   "cell_type": "markdown",
   "metadata": {
    "id": "2Wn0dUpiybKp"
   },
   "source": [
    "Use a set to find the unique values of the list below:"
   ]
  },
  {
   "cell_type": "code",
   "execution_count": 103,
   "metadata": {
    "id": "B2WB4I4QybKq",
    "outputId": "667b898d-5ebd-455f-8c76-7b822ce71c49"
   },
   "outputs": [
    {
     "data": {
      "text/plain": [
       "{1, 2, 3, 4, 11, 22, 33}"
      ]
     },
     "execution_count": 103,
     "metadata": {},
     "output_type": "execute_result"
    }
   ],
   "source": [
    "list5 = [1,2,2,33,4,4,11,22,3,3,2]\n",
    "\n",
    "list5 = {1,2,2,33,4,4,11,22,3,3,2}\n",
    "list5\n"
   ]
  },
  {
   "cell_type": "markdown",
   "metadata": {
    "id": "YhAFJhFJybK5"
   },
   "source": [
    "## Great Job on your first assessment! "
   ]
  }
 ],
 "metadata": {
  "anaconda-cloud": {},
  "colab": {
   "provenance": []
  },
  "kernelspec": {
   "display_name": "Python 3 (ipykernel)",
   "language": "python",
   "name": "python3"
  },
  "language_info": {
   "codemirror_mode": {
    "name": "ipython",
    "version": 3
   },
   "file_extension": ".py",
   "mimetype": "text/x-python",
   "name": "python",
   "nbconvert_exporter": "python",
   "pygments_lexer": "ipython3",
   "version": "3.10.9"
  }
 },
 "nbformat": 4,
 "nbformat_minor": 1
}
